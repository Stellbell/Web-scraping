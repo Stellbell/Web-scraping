{
 "cells": [
  {
   "cell_type": "code",
   "execution_count": 36,
   "id": "982ca3a1-681d-43da-927f-a686758d8849",
   "metadata": {},
   "outputs": [],
   "source": [
    "import pymongo\n",
    "import pandas as pd\n",
    "import json\n",
    "from bs4 import BeautifulSoup\n",
    "from bs4 import BeautifulSoup as bs\n",
    "import pandas\n",
    "import requests\n",
    "from pymongo import MongoClient\n",
    "from splinter import Browser\n",
    "from webdriver_manager.chrome import ChromeDriverManager\n",
    "import os"
   ]
  },
  {
   "cell_type": "code",
   "execution_count": 2,
   "id": "2c2d38df-60bb-407a-b68f-5eae9935c2a6",
   "metadata": {},
   "outputs": [
    {
     "name": "stderr",
     "output_type": "stream",
     "text": [
      "\n",
      "\n",
      "====== WebDriver manager ======\n",
      "Current google-chrome version is 98.0.4758\n",
      "Get LATEST chromedriver version for 98.0.4758 google-chrome\n",
      "Trying to download new driver from https://chromedriver.storage.googleapis.com/98.0.4758.80/chromedriver_mac64.zip\n",
      "Driver has been saved in cache [/Users/stellaschubert/.wdm/drivers/chromedriver/mac64/98.0.4758.80]\n"
     ]
    }
   ],
   "source": [
    "# Setup splinter\n",
    "#executable_path = {'executable_path': ChromeDriverManager().install()}\n",
    "#browser = Browser('chrome', **executable_path, headless=False)"
   ]
  },
  {
   "cell_type": "code",
   "execution_count": 13,
   "id": "f501da4c-9340-4144-9e63-dc9760400e4a",
   "metadata": {},
   "outputs": [],
   "source": [
    "url = 'https://redplanetscience.com/'\n",
    "response = requests.get(url) "
   ]
  },
  {
   "cell_type": "code",
   "execution_count": 14,
   "id": "5c9d0998-ec1f-4814-ab89-e8b95b7b9205",
   "metadata": {},
   "outputs": [],
   "source": [
    "soup = BeautifulSoup(response.text, 'html.parser')"
   ]
  },
  {
   "cell_type": "code",
   "execution_count": 5,
   "id": "fc44aff7-5cfa-4f51-954e-cd3fbd3b7ee3",
   "metadata": {},
   "outputs": [],
   "source": [
    "#print(soup.prettify())"
   ]
  },
  {
   "cell_type": "code",
   "execution_count": 15,
   "id": "1f330108-9315-4a27-888c-cd72acccce07",
   "metadata": {},
   "outputs": [
    {
     "data": {
      "text/plain": [
       "<title>News - Mars Exploration Program</title>"
      ]
     },
     "execution_count": 15,
     "metadata": {},
     "output_type": "execute_result"
    }
   ],
   "source": [
    "soup.title"
   ]
  },
  {
   "cell_type": "code",
   "execution_count": 16,
   "id": "2ef1e0ec-2704-47bf-81fc-70aeba311fae",
   "metadata": {},
   "outputs": [
    {
     "data": {
      "text/plain": [
       "'News - Mars Exploration Program'"
      ]
     },
     "execution_count": 16,
     "metadata": {},
     "output_type": "execute_result"
    }
   ],
   "source": [
    "soup.title.text"
   ]
  },
  {
   "cell_type": "code",
   "execution_count": 17,
   "id": "efba0a41-ba16-4e5d-8335-2082086bb671",
   "metadata": {},
   "outputs": [],
   "source": [
    "results= soup.find_all('div', class_='title')\n",
    "for result in results:\n",
    "    title= result.find('p', class_='title')\n",
    "    print(title)"
   ]
  },
  {
   "cell_type": "code",
   "execution_count": 18,
   "id": "4ce8ec39-9610-49c6-9876-538dbde78a0a",
   "metadata": {},
   "outputs": [
    {
     "name": "stdout",
     "output_type": "stream",
     "text": [
      "NASA to Broadcast Mars 2020 Perseverance Launch, Prelaunch Activities\n"
     ]
    }
   ],
   "source": [
    "paragraphs= soup.find('p')\n",
    "for paragraph in paragraphs:\n",
    "    print(paragraphs.text)"
   ]
  },
  {
   "cell_type": "code",
   "execution_count": 51,
   "id": "bf068792-5099-4005-806b-40045ad921ed",
   "metadata": {},
   "outputs": [
    {
     "ename": "SyntaxError",
     "evalue": "invalid syntax (<ipython-input-51-deaebbb9840a>, line 1)",
     "output_type": "error",
     "traceback": [
      "\u001b[0;36m  File \u001b[0;32m\"<ipython-input-51-deaebbb9840a>\"\u001b[0;36m, line \u001b[0;32m1\u001b[0m\n\u001b[0;31m    try = soup.find_all(\"id\", text=\"content_title\")\u001b[0m\n\u001b[0m        ^\u001b[0m\n\u001b[0;31mSyntaxError\u001b[0m\u001b[0;31m:\u001b[0m invalid syntax\n"
     ]
    }
   ],
   "source": [
    "try = soup.find_all(\"id\", text=\"content_title\")"
   ]
  },
  {
   "cell_type": "code",
   "execution_count": 25,
   "id": "d9a18fce-4370-4da9-b220-5863299d230a",
   "metadata": {},
   "outputs": [
    {
     "ename": "AttributeError",
     "evalue": "'NoneType' object has no attribute 'contents'",
     "output_type": "error",
     "traceback": [
      "\u001b[0;31m---------------------------------------------------------------------------\u001b[0m",
      "\u001b[0;31mAttributeError\u001b[0m                            Traceback (most recent call last)",
      "\u001b[0;32m<ipython-input-25-bbc0a2a18340>\u001b[0m in \u001b[0;36m<module>\u001b[0;34m\u001b[0m\n\u001b[1;32m      1\u001b[0m \u001b[0;31m#title = soup.select_one(\"#news > div:nth-child(1) > div > div.col-md-8 > div > div.content_title\").text\u001b[0m\u001b[0;34m\u001b[0m\u001b[0;34m\u001b[0m\u001b[0;34m\u001b[0m\u001b[0m\n\u001b[1;32m      2\u001b[0m \u001b[0;31m#print(\"Latest Title:\", title)\u001b[0m\u001b[0;34m\u001b[0m\u001b[0;34m\u001b[0m\u001b[0;34m\u001b[0m\u001b[0m\n\u001b[0;32m----> 3\u001b[0;31m \u001b[0mpar_text\u001b[0m \u001b[0;34m=\u001b[0m \u001b[0msoup\u001b[0m\u001b[0;34m.\u001b[0m\u001b[0mselect_one\u001b[0m\u001b[0;34m(\u001b[0m\u001b[0;34m\"#news > div:nth-child(1) > div > div.col-md-8 > div > div.article_teaser_body\"\u001b[0m\u001b[0;34m)\u001b[0m\u001b[0;34m.\u001b[0m\u001b[0mcontents\u001b[0m\u001b[0;34m[\u001b[0m\u001b[0;36m0\u001b[0m\u001b[0;34m]\u001b[0m\u001b[0;34m\u001b[0m\u001b[0;34m\u001b[0m\u001b[0m\n\u001b[0m",
      "\u001b[0;31mAttributeError\u001b[0m: 'NoneType' object has no attribute 'contents'"
     ]
    }
   ],
   "source": [
    "#title = soup.select_one(\"#news > div:nth-child(1) > div > div.col-md-8 > div > div.content_title\").text\n",
    "#print(\"Latest Title:\", title)\n",
    "par_text = soup.select_one(\"#news > div:nth-child(1) > div > div.col-md-8 > div > div.article_teaser_body\").contents[0]"
   ]
  },
  {
   "cell_type": "code",
   "execution_count": 11,
   "id": "86128b5b-9fae-4d2c-8f22-ef114c0a9a1b",
   "metadata": {},
   "outputs": [
    {
     "ename": "AttributeError",
     "evalue": "ResultSet object has no attribute 'text'. You're probably treating a list of elements like a single element. Did you call find_all() when you meant to call find()?",
     "output_type": "error",
     "traceback": [
      "\u001b[0;31m---------------------------------------------------------------------------\u001b[0m",
      "\u001b[0;31mAttributeError\u001b[0m                            Traceback (most recent call last)",
      "\u001b[0;32m<ipython-input-11-2dfbb689873f>\u001b[0m in \u001b[0;36m<module>\u001b[0;34m\u001b[0m\n\u001b[0;32m----> 1\u001b[0;31m \u001b[0msoup\u001b[0m\u001b[0;34m.\u001b[0m\u001b[0mbody\u001b[0m\u001b[0;34m.\u001b[0m\u001b[0mfind_all\u001b[0m\u001b[0;34m(\u001b[0m\u001b[0;34m\"article_teaser_body\"\u001b[0m\u001b[0;34m)\u001b[0m\u001b[0;34m.\u001b[0m\u001b[0mtext\u001b[0m\u001b[0;34m\u001b[0m\u001b[0;34m\u001b[0m\u001b[0m\n\u001b[0m\u001b[1;32m      2\u001b[0m \u001b[0mresults\u001b[0m \u001b[0;34m=\u001b[0m \u001b[0msoup\u001b[0m\u001b[0;34m.\u001b[0m\u001b[0mfind_all\u001b[0m\u001b[0;34m(\u001b[0m\u001b[0;34m'div'\u001b[0m\u001b[0;34m,\u001b[0m \u001b[0mclass_\u001b[0m\u001b[0;34m=\u001b[0m\u001b[0;34m'caption'\u001b[0m\u001b[0;34m)\u001b[0m\u001b[0;34m\u001b[0m\u001b[0;34m\u001b[0m\u001b[0m\n\u001b[1;32m      3\u001b[0m \u001b[0mresults\u001b[0m\u001b[0;34m\u001b[0m\u001b[0;34m\u001b[0m\u001b[0m\n",
      "\u001b[0;32m~/opt/anaconda3/lib/python3.8/site-packages/bs4/element.py\u001b[0m in \u001b[0;36m__getattr__\u001b[0;34m(self, key)\u001b[0m\n\u001b[1;32m   2171\u001b[0m     \u001b[0;32mdef\u001b[0m \u001b[0m__getattr__\u001b[0m\u001b[0;34m(\u001b[0m\u001b[0mself\u001b[0m\u001b[0;34m,\u001b[0m \u001b[0mkey\u001b[0m\u001b[0;34m)\u001b[0m\u001b[0;34m:\u001b[0m\u001b[0;34m\u001b[0m\u001b[0;34m\u001b[0m\u001b[0m\n\u001b[1;32m   2172\u001b[0m         \u001b[0;34m\"\"\"Raise a helpful exception to explain a common code fix.\"\"\"\u001b[0m\u001b[0;34m\u001b[0m\u001b[0;34m\u001b[0m\u001b[0m\n\u001b[0;32m-> 2173\u001b[0;31m         raise AttributeError(\n\u001b[0m\u001b[1;32m   2174\u001b[0m             \u001b[0;34m\"ResultSet object has no attribute '%s'. You're probably treating a list of elements like a single element. Did you call find_all() when you meant to call find()?\"\u001b[0m \u001b[0;34m%\u001b[0m \u001b[0mkey\u001b[0m\u001b[0;34m\u001b[0m\u001b[0;34m\u001b[0m\u001b[0m\n\u001b[1;32m   2175\u001b[0m         )\n",
      "\u001b[0;31mAttributeError\u001b[0m: ResultSet object has no attribute 'text'. You're probably treating a list of elements like a single element. Did you call find_all() when you meant to call find()?"
     ]
    }
   ],
   "source": [
    "soup.body.find_all(\"article_teaser_body\").text\n",
    "results = soup.find_all('div', class_='caption')\n",
    "results"
   ]
  },
  {
   "cell_type": "code",
   "execution_count": null,
   "id": "40b233e7-af3e-4e4d-9252-f33a708bdcb2",
   "metadata": {},
   "outputs": [],
   "source": [
    "title=soup.select('<div class=\"col-md-12\"><div class=\"content_title\">')\n",
    "title\n"
   ]
  },
  {
   "cell_type": "code",
   "execution_count": null,
   "id": "3b7da135-8999-483d-b60d-1559bb989ee7",
   "metadata": {},
   "outputs": [],
   "source": [
    "ti=for title in soup.find_all('<div class=\"col-md-12\"><div class=\"content_title\">'):\n",
    "    print(ti)\n",
    "#<div class=\"content_title\">New Selfie Shows Curiosity, the Mars Chemist</div>    \n"
   ]
  },
  {
   "cell_type": "code",
   "execution_count": null,
   "id": "6eb22c93-e6b4-4021-b728-954e154427d8",
   "metadata": {},
   "outputs": [],
   "source": [
    "title = soup.select_one(\"#news > div:nth-child(1) > div > div.col-md-8 > div > div.content_title\").contents[0]\n",
    "print(\"Latest Title:\", title)"
   ]
  },
  {
   "cell_type": "code",
   "execution_count": null,
   "id": "5e204285-2537-4726-83be-74ea3a1b942a",
   "metadata": {},
   "outputs": [],
   "source": [
    "# Initialize PyMongo to work with MongoDBs\n",
    "conn = 'mongodb://localhost:27017'\n",
    "client = pymongo.MongoClient(conn)"
   ]
  },
  {
   "cell_type": "code",
   "execution_count": null,
   "id": "3140792e-c2fa-49f4-90ce-355ce280d32a",
   "metadata": {},
   "outputs": [],
   "source": [
    "# Define database and collection\n",
    "db = client.commerce_db\n",
    "collection = db.items"
   ]
  },
  {
   "cell_type": "code",
   "execution_count": 29,
   "id": "1bd03527-285b-4402-92ee-09e83fe44cac",
   "metadata": {},
   "outputs": [],
   "source": [
    "#JPL MARS SPACE IMAGES\n",
    "\n",
    "url = \"https://spaceimages-mars.com/\"\n"
   ]
  },
  {
   "cell_type": "code",
   "execution_count": 31,
   "id": "3f917af5-85a7-43b2-978c-d0c1b85bb7dd",
   "metadata": {},
   "outputs": [],
   "source": [
    "response = requests.get(url) \n",
    "\n"
   ]
  },
  {
   "cell_type": "code",
   "execution_count": 33,
   "id": "b4d0d42a-12a1-493a-99c2-bf0ded88d2fd",
   "metadata": {},
   "outputs": [
    {
     "name": "stdout",
     "output_type": "stream",
     "text": [
      "Featured Image URL: https://spaceimages-mars.com/\n"
     ]
    }
   ],
   "source": [
    "soup = BeautifulSoup(response.text, 'lxml')\n",
    "rel_image_url = soup.select_one(\"body > div.header > div > a\")['href']\n",
    "image_url = (url + rel_image_url)\n",
    "print(\"Featured Image URL:\", image_url)"
   ]
  },
  {
   "cell_type": "code",
   "execution_count": 37,
   "id": "386ac587-d3b0-48d8-b7d2-af77e3bd51c8",
   "metadata": {},
   "outputs": [
    {
     "data": {
      "text/plain": [
       "[                         0                1                2\n",
       " 0  Mars - Earth Comparison             Mars            Earth\n",
       " 1                Diameter:         6,779 km        12,742 km\n",
       " 2                    Mass:  6.39 × 10^23 kg  5.97 × 10^24 kg\n",
       " 3                   Moons:                2                1\n",
       " 4       Distance from Sun:   227,943,824 km   149,598,262 km\n",
       " 5          Length of Year:   687 Earth days      365.24 days\n",
       " 6             Temperature:     -87 to -5 °C      -88 to 58°C,\n",
       "                       0                              1\n",
       " 0  Equatorial Diameter:                       6,792 km\n",
       " 1       Polar Diameter:                       6,752 km\n",
       " 2                 Mass:  6.39 × 10^23 kg (0.11 Earths)\n",
       " 3                Moons:          2 ( Phobos & Deimos )\n",
       " 4       Orbit Distance:       227,943,824 km (1.38 AU)\n",
       " 5         Orbit Period:           687 days (1.9 years)\n",
       " 6  Surface Temperature:                   -87 to -5 °C\n",
       " 7         First Record:              2nd millennium BC\n",
       " 8          Recorded By:           Egyptian astronomers]"
      ]
     },
     "execution_count": 37,
     "metadata": {},
     "output_type": "execute_result"
    }
   ],
   "source": [
    "#MARS FACTS\n",
    "url = \"https://galaxyfacts-mars.com/\"\n",
    "tables = pd.read_html(url)\n",
    "tables"
   ]
  },
  {
   "cell_type": "code",
   "execution_count": 38,
   "id": "980f12ff-bf5e-4ebd-a60e-eec47995203e",
   "metadata": {},
   "outputs": [
    {
     "data": {
      "text/html": [
       "<div>\n",
       "<style scoped>\n",
       "    .dataframe tbody tr th:only-of-type {\n",
       "        vertical-align: middle;\n",
       "    }\n",
       "\n",
       "    .dataframe tbody tr th {\n",
       "        vertical-align: top;\n",
       "    }\n",
       "\n",
       "    .dataframe thead th {\n",
       "        text-align: right;\n",
       "    }\n",
       "</style>\n",
       "<table border=\"1\" class=\"dataframe\">\n",
       "  <thead>\n",
       "    <tr style=\"text-align: right;\">\n",
       "      <th></th>\n",
       "      <th>Mars - Earth Comparison</th>\n",
       "      <th>Mars</th>\n",
       "      <th>Earth</th>\n",
       "    </tr>\n",
       "  </thead>\n",
       "  <tbody>\n",
       "    <tr>\n",
       "      <th>1</th>\n",
       "      <td>Diameter:</td>\n",
       "      <td>6,779 km</td>\n",
       "      <td>12,742 km</td>\n",
       "    </tr>\n",
       "    <tr>\n",
       "      <th>2</th>\n",
       "      <td>Mass:</td>\n",
       "      <td>6.39 × 10^23 kg</td>\n",
       "      <td>5.97 × 10^24 kg</td>\n",
       "    </tr>\n",
       "    <tr>\n",
       "      <th>3</th>\n",
       "      <td>Moons:</td>\n",
       "      <td>2</td>\n",
       "      <td>1</td>\n",
       "    </tr>\n",
       "    <tr>\n",
       "      <th>4</th>\n",
       "      <td>Distance from Sun:</td>\n",
       "      <td>227,943,824 km</td>\n",
       "      <td>149,598,262 km</td>\n",
       "    </tr>\n",
       "    <tr>\n",
       "      <th>5</th>\n",
       "      <td>Length of Year:</td>\n",
       "      <td>687 Earth days</td>\n",
       "      <td>365.24 days</td>\n",
       "    </tr>\n",
       "    <tr>\n",
       "      <th>6</th>\n",
       "      <td>Temperature:</td>\n",
       "      <td>-87 to -5 °C</td>\n",
       "      <td>-88 to 58°C</td>\n",
       "    </tr>\n",
       "  </tbody>\n",
       "</table>\n",
       "</div>"
      ],
      "text/plain": [
       "  Mars - Earth Comparison             Mars            Earth\n",
       "1               Diameter:         6,779 km        12,742 km\n",
       "2                   Mass:  6.39 × 10^23 kg  5.97 × 10^24 kg\n",
       "3                  Moons:                2                1\n",
       "4      Distance from Sun:   227,943,824 km   149,598,262 km\n",
       "5         Length of Year:   687 Earth days      365.24 days\n",
       "6            Temperature:     -87 to -5 °C      -88 to 58°C"
      ]
     },
     "execution_count": 38,
     "metadata": {},
     "output_type": "execute_result"
    }
   ],
   "source": [
    "mars_earth_comparison_df = tables[0]\n",
    "mars_table_df = tables[1]\n",
    "\n",
    "mars_earth_comparison_df.rename(columns = {0: 'Mars - Earth Comparison', 1: 'Mars', 2: 'Earth'}, inplace = True)\n",
    "#mars_earth_comparison_df.set_index(\"Mars - Earth Comparison\", inplace = True)\n",
    "mars_earth_comparison_df.drop(mars_earth_comparison_df.index[0], inplace=True)\n",
    "\n",
    "mars_earth_comparison_df\n",
    "#mars_table_df"
   ]
  },
  {
   "cell_type": "code",
   "execution_count": 40,
   "id": "83027ee9-9f4b-4d6c-b0ca-7b4e781202ef",
   "metadata": {},
   "outputs": [
    {
     "data": {
      "text/plain": [
       "{'index': [1, 2, 3, 4, 5, 6],\n",
       " 'columns': ['Mars - Earth Comparison', 'Mars', 'Earth'],\n",
       " 'data': [['Diameter:', '6,779 km', '12,742 km'],\n",
       "  ['Mass:', '6.39 × 10^23 kg', '5.97 × 10^24 kg'],\n",
       "  ['Moons:', '2', '1'],\n",
       "  ['Distance from Sun:', '227,943,824 km', '149,598,262 km'],\n",
       "  ['Length of Year:', '687 Earth days', '365.24 days'],\n",
       "  ['Temperature:', '-87 to -5 °C', '-88 to 58°C']]}"
      ]
     },
     "execution_count": 40,
     "metadata": {},
     "output_type": "execute_result"
    }
   ],
   "source": [
    "mars_earth_comparison_df.to_dict('split')"
   ]
  },
  {
   "cell_type": "code",
   "execution_count": 39,
   "id": "c70f84f6-7550-49ee-9aac-9a06f2cf2a78",
   "metadata": {},
   "outputs": [
    {
     "data": {
      "text/plain": [
       "'<table border=\"1\" class=\"dataframe\">  <thead>    <tr style=\"text-align: right;\">      <th></th>      <th>Mars - Earth Comparison</th>      <th>Mars</th>      <th>Earth</th>    </tr>  </thead>  <tbody>    <tr>      <th>1</th>      <td>Diameter:</td>      <td>6,779 km</td>      <td>12,742 km</td>    </tr>    <tr>      <th>2</th>      <td>Mass:</td>      <td>6.39 × 10^23 kg</td>      <td>5.97 × 10^24 kg</td>    </tr>    <tr>      <th>3</th>      <td>Moons:</td>      <td>2</td>      <td>1</td>    </tr>    <tr>      <th>4</th>      <td>Distance from Sun:</td>      <td>227,943,824 km</td>      <td>149,598,262 km</td>    </tr>    <tr>      <th>5</th>      <td>Length of Year:</td>      <td>687 Earth days</td>      <td>365.24 days</td>    </tr>    <tr>      <th>6</th>      <td>Temperature:</td>      <td>-87 to -5 °C</td>      <td>-88 to 58°C</td>    </tr>  </tbody></table>'"
      ]
     },
     "execution_count": 39,
     "metadata": {},
     "output_type": "execute_result"
    }
   ],
   "source": [
    "#mars_earth_comparison_df = mars_earth_comparison_df.reset_index(drop=True)\n",
    "html_table = mars_earth_comparison_df.to_html()\n",
    "html_table = html_table.replace('\\n', '')\n",
    "html_table"
   ]
  },
  {
   "cell_type": "code",
   "execution_count": 41,
   "id": "4bbdcc8a-971c-468d-9b7b-1f5725f0f6d5",
   "metadata": {},
   "outputs": [],
   "source": [
    "mars_earth_comparison_df.to_html('mars_table.html')"
   ]
  },
  {
   "cell_type": "code",
   "execution_count": 42,
   "id": "c0df1fbb-edac-4517-a60e-66895f2e8962",
   "metadata": {},
   "outputs": [],
   "source": [
    "#MARS HEMISPHERES\n",
    "url = \"https://marshemispheres.com/\""
   ]
  },
  {
   "cell_type": "code",
   "execution_count": 43,
   "id": "1381eec9-b3d9-4297-a1ef-264a1b9a40ff",
   "metadata": {},
   "outputs": [],
   "source": [
    "response = requests.get(url) \n",
    "soup = BeautifulSoup(response.text, 'lxml')"
   ]
  },
  {
   "cell_type": "code",
   "execution_count": 44,
   "id": "6d9563c6-b93a-46d9-80e3-90747aaab203",
   "metadata": {},
   "outputs": [],
   "source": [
    "links = soup.select(\"#product-section > div.collapsible.results > div > a\")\n",
    "\n",
    "hemisphere_image_urls = []"
   ]
  },
  {
   "cell_type": "code",
   "execution_count": 48,
   "id": "579cccf8-1df1-427c-ace8-69cf8680d3ed",
   "metadata": {},
   "outputs": [],
   "source": [
    "for link in links:\n",
    "    #print(\"Visiting:\", link['href'])\n",
    "    response = requests.get(url + link['href'])\n",
    "    #print(response) \n",
    "    soup = BeautifulSoup(response.text, 'lxml')\n",
    "    \n",
    "    title = soup.select_one(\"#results > div.wrapper > div > div.cover > h2\").contents[0]\n",
    "    rel_image_url = soup.select_one(\"#wide-image > div > ul > li:nth-child(1) > a\")['href']\n",
    "    hemisphere_image_url = {}\n",
    "    hemisphere_image_url['title'] = title\n",
    "    hemisphere_image_url['img_url'] = (url + rel_image_url)\n",
    "    hemisphere_image_urls.append(hemisphere_image_url)"
   ]
  },
  {
   "cell_type": "code",
   "execution_count": 49,
   "id": "6dd01261-5289-4377-bb0d-8268679e5f52",
   "metadata": {},
   "outputs": [
    {
     "data": {
      "text/html": [
       "<div>\n",
       "<style scoped>\n",
       "    .dataframe tbody tr th:only-of-type {\n",
       "        vertical-align: middle;\n",
       "    }\n",
       "\n",
       "    .dataframe tbody tr th {\n",
       "        vertical-align: top;\n",
       "    }\n",
       "\n",
       "    .dataframe thead th {\n",
       "        text-align: right;\n",
       "    }\n",
       "</style>\n",
       "<table border=\"1\" class=\"dataframe\">\n",
       "  <thead>\n",
       "    <tr style=\"text-align: right;\">\n",
       "      <th></th>\n",
       "      <th>title</th>\n",
       "      <th>img_url</th>\n",
       "    </tr>\n",
       "  </thead>\n",
       "  <tbody>\n",
       "    <tr>\n",
       "      <th>0</th>\n",
       "      <td>Cerberus Hemisphere Enhanced</td>\n",
       "      <td>https://marshemispheres.com/images/full.jpg</td>\n",
       "    </tr>\n",
       "    <tr>\n",
       "      <th>1</th>\n",
       "      <td>Schiaparelli Hemisphere Enhanced</td>\n",
       "      <td>https://marshemispheres.com/images/schiaparell...</td>\n",
       "    </tr>\n",
       "    <tr>\n",
       "      <th>2</th>\n",
       "      <td>Syrtis Major Hemisphere Enhanced</td>\n",
       "      <td>https://marshemispheres.com/images/syrtis_majo...</td>\n",
       "    </tr>\n",
       "    <tr>\n",
       "      <th>3</th>\n",
       "      <td>Valles Marineris Hemisphere Enhanced</td>\n",
       "      <td>https://marshemispheres.com/images/valles_mari...</td>\n",
       "    </tr>\n",
       "  </tbody>\n",
       "</table>\n",
       "</div>"
      ],
      "text/plain": [
       "                                  title  \\\n",
       "0          Cerberus Hemisphere Enhanced   \n",
       "1      Schiaparelli Hemisphere Enhanced   \n",
       "2      Syrtis Major Hemisphere Enhanced   \n",
       "3  Valles Marineris Hemisphere Enhanced   \n",
       "\n",
       "                                             img_url  \n",
       "0        https://marshemispheres.com/images/full.jpg  \n",
       "1  https://marshemispheres.com/images/schiaparell...  \n",
       "2  https://marshemispheres.com/images/syrtis_majo...  \n",
       "3  https://marshemispheres.com/images/valles_mari...  "
      ]
     },
     "execution_count": 49,
     "metadata": {},
     "output_type": "execute_result"
    }
   ],
   "source": [
    "#hemisphere_image_urls\n",
    "hem_df = pd.DataFrame(hemisphere_image_urls)\n",
    "hem_df"
   ]
  },
  {
   "cell_type": "code",
   "execution_count": 53,
   "id": "7bc748a5-fbf4-47b5-9661-10b5d9447d65",
   "metadata": {},
   "outputs": [],
   "source": [
    "import scrapy"
   ]
  },
  {
   "cell_type": "code",
   "execution_count": null,
   "id": "b501e528-38d9-4ffd-8656-cb5363ad8597",
   "metadata": {},
   "outputs": [],
   "source": []
  }
 ],
 "metadata": {
  "kernelspec": {
   "display_name": "Python 3",
   "language": "python",
   "name": "python3"
  },
  "language_info": {
   "codemirror_mode": {
    "name": "ipython",
    "version": 3
   },
   "file_extension": ".py",
   "mimetype": "text/x-python",
   "name": "python",
   "nbconvert_exporter": "python",
   "pygments_lexer": "ipython3",
   "version": "3.8.8"
  }
 },
 "nbformat": 4,
 "nbformat_minor": 5
}
